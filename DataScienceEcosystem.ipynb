{
 "cells": [
  {
   "cell_type": "markdown",
   "metadata": {},
   "source": [
    "<center>\n",
    "    <img src=\"https://cf-courses-data.s3.us.cloud-object-storage.appdomain.cloud/IBMDeveloperSkillsNetwork-DS0105EN-SkillsNetwork/labs/Module2/images/SN_web_lightmode.png\" width=\"300\" alt=\"cognitiveclass.ai logo\">\n",
    "</center>\n"
   ]
  },
  {
   "cell_type": "markdown",
   "metadata": {},
   "source": [
    "#### Add your code below following the instructions given in the course\n"
   ]
  },
  {
   "cell_type": "markdown",
   "metadata": {
    "tags": []
   },
   "source": [
    "### Data Science Tools and Ecosystem"
   ]
  },
  {
   "cell_type": "markdown",
   "metadata": {},
   "source": [
    "### Introduction of Data Science"
   ]
  },
  {
   "cell_type": "markdown",
   "metadata": {},
   "source": [
    "Data science is an interdisciplinary field that involves the use of various techniques, algorithms, processes, and systems to extract insights and knowledge from data. It combines elements from computer science, mathematics, statistics, domain expertise, and domain-specific knowledge to analyze complex and large datasets."
   ]
  },
  {
   "cell_type": "markdown",
   "metadata": {},
   "source": [
    "### List Data Science Languages\n",
    "1. Python\n",
    "2. R\n",
    "3. SQL\n",
    "4. JAVA\n",
    "5. C++"
   ]
  },
  {
   "cell_type": "markdown",
   "metadata": {},
   "source": [
    "### Library of Data Science\n",
    "1. NumPy\n",
    "2. Pandas\n",
    "3. Pytorch\n",
    "4. TensorFlow\n",
    "5. Scikit-Learn"
   ]
  },
  {
   "cell_type": "markdown",
   "metadata": {},
   "source": [
    "### Tools for Data Science\n",
    "1. Programming Languages:\n",
    "- Python: Widely used for its extensive libraries and easy-to-read syntax.\n",
    "- R: Specifically designed for statistical computing and analysis.\n",
    "- SQL: For managing and querying relational databases.\n",
    "\n",
    "2. Integrated Development Environments (IDEs):\n",
    "- Jupyter Notebook: Interactive environment for writing and sharing code, visualizations, and explanations.\n",
    "- RStudio: IDE specifically designed for R programming.\n",
    "- Spyder: Python IDE with a focus on scientific computing and data analysis.\n",
    "\n",
    "3. Version Control:\n",
    "- Git: Used for tracking changes in code, collaborating with others, and maintaining project history.\n",
    "- GitHub: A platform that hosts Git repositories and provides collaboration features."
   ]
  },
  {
   "cell_type": "markdown",
   "metadata": {},
   "source": [
    "### Arithmetic Expression\n",
    "1+1"
   ]
  },
  {
   "cell_type": "markdown",
   "metadata": {},
   "source": [
    "2*2"
   ]
  },
  {
   "cell_type": "code",
   "execution_count": 3,
   "metadata": {
    "tags": []
   },
   "outputs": [
    {
     "data": {
      "text/plain": [
       "5"
      ]
     },
     "execution_count": 3,
     "metadata": {},
     "output_type": "execute_result"
    }
   ],
   "source": [
    "#Adding number\n",
    "2+3"
   ]
  },
  {
   "cell_type": "code",
   "execution_count": 6,
   "metadata": {
    "tags": []
   },
   "outputs": [
    {
     "data": {
      "text/plain": [
       "12"
      ]
     },
     "execution_count": 6,
     "metadata": {},
     "output_type": "execute_result"
    }
   ],
   "source": [
    "#Multiply number\n",
    "2*6"
   ]
  },
  {
   "cell_type": "code",
   "execution_count": 11,
   "metadata": {
    "tags": []
   },
   "outputs": [
    {
     "name": "stdout",
     "output_type": "stream",
     "text": [
      "3:20\n"
     ]
    }
   ],
   "source": [
    "#Convert minutes to hours\n",
    "minutes = 200\n",
    "hours = minutes//60\n",
    "remaining_minutes = minutes % 60\n",
    "\n",
    "#time as a string\n",
    "time =\"{}:{}\".format(hours, remaining_minutes)\n",
    "\n",
    "print(time)"
   ]
  },
  {
   "cell_type": "markdown",
   "metadata": {
    "tags": []
   },
   "source": [
    "### Objectives when Working with Lists in Python\n",
    "\n",
    "1. **Creating a List:** Creating a new list to store a collection of items.\n",
    "\n",
    "2. **Accessing Elements:** Accessing individual elements in the list using indexing.\n",
    "\n",
    "3. **Slicing Lists:** Extracting a portion of the list using slicing.\n",
    "\n",
    "4. **Modifying Elements:** Changing the value of elements in the list.\n",
    "\n",
    "5. **Appending and Extending Lists:** Adding new elements to the end of the list using `append()` or extending the list with another list using `extend()`.\n",
    "\n",
    "6. **Inserting Elements:** Inserting elements at a specific position in the list using `insert()`.\n",
    "\n",
    "7. **Removing Elements:** Removing elements from the list using `remove()`, `pop()`, or `del`.\n",
    "\n",
    "8. **Finding Elements:** Finding the index of an element using `index()`.\n",
    "\n",
    "9. **Counting Elements:** Counting the occurrences of a specific value in the list using `count()`.\n",
    "\n",
    "10. **Sorting and Reversing:** Sorting the list in ascending or descending order using `sort()` or reversing the order using `reverse()`.\n",
    "\n",
    "11. **List Comprehensions:** Creating new lists by applying an expression to each item in an existing list.\n",
    "\n",
    "12. **Iterating Through a List:** Using loops (for or while) to iterate through each element in the list.\n",
    "\n",
    "13. **List Operations:** Performing operations on lists, such as concatenation and repetition.\n",
    "\n",
    "14. **Nested Lists:** Creating lists of lists to represent multidimensional data.\n",
    "\n",
    "15. **Checking Membership:** Checking if an element is present in the list using the `in` keyword.\n",
    "\n",
    "16. **List Length:** Finding the number of elements in the list using `len()`.\n",
    "\n",
    "17. **Copying Lists:** Creating a copy of a list using slicing or the `copy()` method.\n",
    "\n",
    "18. **List Methods:** Exploring the various built-in methods available for lists, such as `append()`, `extend()`, `pop()`, `remove()`, `sort()`, and more.\n"
   ]
  },
  {
   "cell_type": "markdown",
   "metadata": {},
   "source": [
    "### Author\n",
    "**Your name:** Gita Alisrobia"
   ]
  },
  {
   "cell_type": "code",
   "execution_count": null,
   "metadata": {},
   "outputs": [],
   "source": []
  },
  {
   "cell_type": "code",
   "execution_count": null,
   "metadata": {},
   "outputs": [],
   "source": []
  }
 ],
 "metadata": {
  "kernelspec": {
   "display_name": "Python",
   "language": "python",
   "name": "conda-env-python-py"
  },
  "language_info": {
   "codemirror_mode": {
    "name": "ipython",
    "version": 3
   },
   "file_extension": ".py",
   "mimetype": "text/x-python",
   "name": "python",
   "nbconvert_exporter": "python",
   "pygments_lexer": "ipython3",
   "version": "3.7.12"
  }
 },
 "nbformat": 4,
 "nbformat_minor": 4
}
